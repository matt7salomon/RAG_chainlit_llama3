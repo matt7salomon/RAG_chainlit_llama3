{
 "cells": [
  {
   "cell_type": "code",
   "execution_count": 2,
   "id": "cc3565ac",
   "metadata": {},
   "outputs": [
    {
     "name": "stdout",
     "output_type": "stream",
     "text": [
      "Collecting pytesseract\n",
      "  Downloading pytesseract-0.3.13-py3-none-any.whl (14 kB)\n",
      "Requirement already satisfied: Pillow>=8.0.0 in /Users/mattsalomon/miniconda3/lib/python3.10/site-packages (from pytesseract) (9.3.0)\n",
      "Requirement already satisfied: packaging>=21.3 in /Users/mattsalomon/miniconda3/lib/python3.10/site-packages (from pytesseract) (23.2)\n",
      "Installing collected packages: pytesseract\n",
      "Successfully installed pytesseract-0.3.13\n",
      "Note: you may need to restart the kernel to use updated packages.\n",
      "Requirement already satisfied: opencv-python in /Users/mattsalomon/miniconda3/lib/python3.10/site-packages (4.10.0.84)\n",
      "Requirement already satisfied: numpy>=1.21.2 in /Users/mattsalomon/miniconda3/lib/python3.10/site-packages (from opencv-python) (1.26.4)\n",
      "Note: you may need to restart the kernel to use updated packages.\n",
      "Requirement already satisfied: Pillow in /Users/mattsalomon/miniconda3/lib/python3.10/site-packages (9.3.0)\n",
      "Note: you may need to restart the kernel to use updated packages.\n"
     ]
    }
   ],
   "source": [
    "%pip install pytesseract\n",
    "%pip install tesseract-ocr\n",
    "%pip install opencv-python\n",
    "%pip install Pillow"
   ]
  },
  {
   "cell_type": "code",
   "execution_count": 3,
   "id": "c08135cb",
   "metadata": {},
   "outputs": [],
   "source": [
    "from PIL import Image\n",
    "import pytesseract\n",
    "import numpy as np\n",
    "from pytesseract import Output\n",
    "import cv2"
   ]
  },
  {
   "cell_type": "code",
   "execution_count": 6,
   "id": "6aa9f30f",
   "metadata": {},
   "outputs": [],
   "source": [
    "filename = 'Screenshot 2024-08-31 at 10.59.17 PM.png'\n",
    "img = np.array(Image.open(filename))\n",
    "text = pytesseract.image_to_string(img)"
   ]
  },
  {
   "cell_type": "code",
   "execution_count": 7,
   "id": "14d68776",
   "metadata": {},
   "outputs": [
    {
     "data": {
      "text/plain": [
       "'Please upload up to10 .pdf or .docx files to begin.\\n\\nGigelev report.docx processed. You can now ask questions!\\n\\nwhats the subject of the document\\n\\nUsed RetrievalQAWithSourcesChain\\n\\nThe subject of the document is \"Locational Marginal Prices Prediction\".\\n\\nSources: O-pl, 1-pl, 2-pl\\n\\n1-pl\\n\\nThe 15-minute Locational Marginal Prices (LMP) data were downloaded from CAISO OASIS\\nplatform. The prices in this dataset reflect the current status of the market. The LMP prices were\\ndownloaded for three separate nodes. Recursive Neural Networks (RNN) and ARIMA were selected\\nto predict the prices in the future from current values. These models perform well on time series\\ndata since they consider a window of time and roll the window over the data. 44 days of data were\\ndownloaded for each node since it was the maximum that OASIS allowed to download in one\\nsession. Arima allows for only one time series to be forecasted at a time so it doesn\\'t allow for\\nadditional features to be considered. To keep matters consistent and have similar comparison, the\\nsame time series were predicted using an RNN. Root mean squared error (RMSE) was considered\\nas the performance metric since we are comparing two time series together(i.e. the original data\\nand the predicted data).\\n\\n0-pl\\n\\nLocational Marginal Prices Prediction\\nMatt Salomon\\n'"
      ]
     },
     "execution_count": 7,
     "metadata": {},
     "output_type": "execute_result"
    }
   ],
   "source": [
    "text"
   ]
  },
  {
   "cell_type": "code",
   "execution_count": null,
   "id": "f807a742",
   "metadata": {},
   "outputs": [],
   "source": []
  }
 ],
 "metadata": {
  "kernelspec": {
   "display_name": "TF_python310",
   "language": "python",
   "name": "tf_python310"
  },
  "language_info": {
   "codemirror_mode": {
    "name": "ipython",
    "version": 3
   },
   "file_extension": ".py",
   "mimetype": "text/x-python",
   "name": "python",
   "nbconvert_exporter": "python",
   "pygments_lexer": "ipython3",
   "version": "3.10.9"
  },
  "varInspector": {
   "cols": {
    "lenName": 16,
    "lenType": 16,
    "lenVar": 40
   },
   "kernels_config": {
    "python": {
     "delete_cmd_postfix": "",
     "delete_cmd_prefix": "del ",
     "library": "var_list.py",
     "varRefreshCmd": "print(var_dic_list())"
    },
    "r": {
     "delete_cmd_postfix": ") ",
     "delete_cmd_prefix": "rm(",
     "library": "var_list.r",
     "varRefreshCmd": "cat(var_dic_list()) "
    }
   },
   "types_to_exclude": [
    "module",
    "function",
    "builtin_function_or_method",
    "instance",
    "_Feature"
   ],
   "window_display": false
  }
 },
 "nbformat": 4,
 "nbformat_minor": 5
}
